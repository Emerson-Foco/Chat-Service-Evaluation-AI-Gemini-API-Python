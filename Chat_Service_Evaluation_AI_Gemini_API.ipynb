{
  "nbformat": 4,
  "nbformat_minor": 0,
  "metadata": {
    "colab": {
      "provenance": [],
      "collapsed_sections": [
        "E6P9TE2GhttM",
        "-SAmUIVpjnfL",
        "qq1tIJACp7Kd",
        "4SdqhytfooNq",
        "5H6hElMbvLZB"
      ],
      "authorship_tag": "ABX9TyPAsXRyqTzkeMbugLtfXBax",
      "include_colab_link": true
    },
    "kernelspec": {
      "name": "python3",
      "display_name": "Python 3"
    },
    "language_info": {
      "name": "python"
    }
  },
  "cells": [
    {
      "cell_type": "markdown",
      "metadata": {
        "id": "view-in-github",
        "colab_type": "text"
      },
      "source": [
        "<a href=\"https://colab.research.google.com/github/Emerson-Foco/Chat_Service_Evaluation_AI_Gemini_API/blob/main/Chat_Service_Evaluation_AI_Gemini_API.ipynb\" target=\"_parent\"><img src=\"https://colab.research.google.com/assets/colab-badge.svg\" alt=\"Open In Colab\"/></a>"
      ]
    },
    {
      "cell_type": "markdown",
      "source": [
        "# First Steps"
      ],
      "metadata": {
        "id": "E6P9TE2GhttM"
      }
    },
    {
      "cell_type": "markdown",
      "source": [
        "- [ ] Install and import Google SDK"
      ],
      "metadata": {
        "id": "YbbICG45jP_R"
      }
    },
    {
      "cell_type": "code",
      "execution_count": 3,
      "metadata": {
        "id": "KsiiE8fkhbmm"
      },
      "outputs": [],
      "source": [
        "!pip install -q -U google-generativeai"
      ]
    },
    {
      "cell_type": "markdown",
      "source": [
        "- [ ] Import Goodle SDK"
      ],
      "metadata": {
        "id": "1Eh38xNWjWqx"
      }
    },
    {
      "cell_type": "code",
      "source": [
        "import pathlib\n",
        "import textwrap\n",
        "\n",
        "import google.generativeai as genai\n",
        "\n",
        "from IPython.display import display\n",
        "from IPython.display import Markdown\n",
        "\n",
        "\n",
        "def to_markdown(text):\n",
        "  text = text.replace('•', '  *')\n",
        "  return Markdown(textwrap.indent(text, '> ', predicate=lambda _: True))"
      ],
      "metadata": {
        "id": "FYj1jexRjf2r"
      },
      "execution_count": 4,
      "outputs": []
    },
    {
      "cell_type": "markdown",
      "source": [
        "- [ ] Setting your API key by *userdata.get*"
      ],
      "metadata": {
        "id": "BbBtNgLQig1h"
      }
    },
    {
      "cell_type": "code",
      "source": [
        "from google.colab import userdata\n",
        "api_key = userdata.get('SECRET_KEY')\n",
        "\n",
        "genai.configure(api_key=api_key)"
      ],
      "metadata": {
        "id": "-775pV6diwMa"
      },
      "execution_count": 5,
      "outputs": []
    },
    {
      "cell_type": "markdown",
      "source": [
        "# Setting your employee (AI)\n",
        "\n",
        "> Adicionar aspas\n",
        "\n"
      ],
      "metadata": {
        "id": "-SAmUIVpjnfL"
      }
    },
    {
      "cell_type": "markdown",
      "source": [
        "- [ ] Employee info"
      ],
      "metadata": {
        "id": "cy4S6J14nS_V"
      }
    },
    {
      "cell_type": "code",
      "source": [
        "employee_name = 'Raquel'\n",
        "employee_position = 'atendente'\n",
        "employee_company = 'Google'\n",
        "employee_products = 'AI Gemini'\n",
        "employee_mood = 'amigavel e objetivo'\n",
        "\n",
        "employee_info = {f'Você se chama {employee_name} e é {employee_position} de chat e trabalha para empresa {employee_company} '\n",
        "                  f'com os produtos {employee_products}, realize um atendimento natural, humanizado e '\n",
        "                  'sem assustar o cliente. Você não pode mentir e nem inventar.'\n",
        "                  f' O que você não souber, diga que não possui a informação. Você é um atendente {employee_mood}!'}\n",
        "\n",
        "print(employee_info)"
      ],
      "metadata": {
        "id": "mw_idnM-j1Ur"
      },
      "execution_count": null,
      "outputs": []
    },
    {
      "cell_type": "markdown",
      "source": [
        "- [ ] Employee model settings"
      ],
      "metadata": {
        "id": "uGG0lYu3nZ-R"
      }
    },
    {
      "cell_type": "code",
      "source": [
        "employee_generation_config = {\n",
        "    'candidate_count': 1,\n",
        "    'temperature': 0.9,\n",
        "}\n",
        "\n",
        "employee_safety_settings = {\n",
        "    'HARASSMENT': 'BLOCK_NONE',\n",
        "    'HATE': 'BLOCK_NONE',\n",
        "    'SEXUAL': 'BLOCK_NONE',\n",
        "    'DANGEROUS': 'BLOCK_NONE',\n",
        "}\n",
        "\n",
        "employee_model = genai.GenerativeModel('gemini-pro', generation_config=employee_generation_config, safety_settings=employee_safety_settings)"
      ],
      "metadata": {
        "id": "L5ky5Ph2nieJ",
        "collapsed": true
      },
      "execution_count": 48,
      "outputs": []
    },
    {
      "cell_type": "markdown",
      "source": [
        "#Setting customer (AI)"
      ],
      "metadata": {
        "id": "qq1tIJACp7Kd"
      }
    },
    {
      "cell_type": "markdown",
      "source": [
        "- [ ] Customer info"
      ],
      "metadata": {
        "id": "hdo-z5FoqUEI"
      }
    },
    {
      "cell_type": "code",
      "source": [
        "customer_name = 'Paulo'\n",
        "customer_position = 'CEO'\n",
        "customer_company = 'Alura'\n",
        "customer_interest = 'IA para ajudar os alunos da sua plataforma de cursos online'\n",
        "customer_mood = 'direto e objetivo' #experimente \"furioso\" e veja a avaliação do chat após a nova conversa.\n",
        "\n",
        "customer_info = {f'Você é {customer_name}, {customer_position} da empresa {customer_company} e'\n",
        "                  f' Você tem interesse em {customer_interest}. Você é {customer_mood}!'}\n",
        "\n",
        "print(customer_info)"
      ],
      "metadata": {
        "id": "ZLiyJjawqcCn"
      },
      "execution_count": null,
      "outputs": []
    },
    {
      "cell_type": "markdown",
      "source": [
        "- [ ] Customer model settings"
      ],
      "metadata": {
        "id": "0sr1toyKtJsj"
      }
    },
    {
      "cell_type": "code",
      "source": [
        "customer_generation_config = {\n",
        "    'candidate_count': 1,\n",
        "    'temperature': 0.9,\n",
        "}\n",
        "\n",
        "customer_safety_settings = {\n",
        "    'HARASSMENT': 'BLOCK_NONE',\n",
        "    'HATE': 'BLOCK_NONE',\n",
        "    'SEXUAL': 'BLOCK_NONE',\n",
        "    'DANGEROUS': 'BLOCK_NONE',\n",
        "}\n",
        "\n",
        "customer_model = genai.GenerativeModel('gemini-pro', generation_config=customer_generation_config, safety_settings=customer_safety_settings)"
      ],
      "metadata": {
        "id": "S_-lawAvtN80"
      },
      "execution_count": 50,
      "outputs": []
    },
    {
      "cell_type": "markdown",
      "source": [
        "# Setting chat evaluator (AI)"
      ],
      "metadata": {
        "id": "4SdqhytfooNq"
      }
    },
    {
      "cell_type": "markdown",
      "source": [
        "- [ ] Evaluator info"
      ],
      "metadata": {
        "id": "AW3JDErfozh8"
      }
    },
    {
      "cell_type": "code",
      "source": [
        "#O objetivo é que o avaliador possa classificar as conversas para que o programa possa direcionar apenas conversas de interesse da empresa para análise.\n",
        "evaluator_status_none = 'Se a conversa foi frutifera ou não teve nada de anormal, considere a conversa como \"NONE\".'\n",
        "evaluator_status_warning = 'Se encontrar uma coversa que representa falhas de comunicação ou sem sentido, considere a conversa como \"WARNING\".'\n",
        "evaluator_status_danger = 'Se encontrar uma conversa com ofensas ou ameaças, considere a conversa como \"DANGER\".'\n",
        "\n",
        "\n",
        "evaluator_info = {'Você está monitorando conversas para garantir a qualidade de atendimento. Com isso, você tem os seguintes status: \\n'\n",
        "                  f'- {evaluator_status_none} \\n- {evaluator_status_warning} \\n- {evaluator_status_danger} \\n'\n",
        "                  'Com base nessas informações, responda qual status foi considerado na seguinte conversa: \\n'}\n",
        "\n",
        "print(evaluator_info)"
      ],
      "metadata": {
        "id": "hDizto3co5-M"
      },
      "execution_count": null,
      "outputs": []
    },
    {
      "cell_type": "markdown",
      "source": [
        "- [ ] Evaluator model settings"
      ],
      "metadata": {
        "id": "uvoVabHFrvtu"
      }
    },
    {
      "cell_type": "code",
      "source": [
        "evaluator_generation_config = {\n",
        "    'candidate_count': 1,\n",
        "    'temperature': 0,\n",
        "}\n",
        "\n",
        "evaluator_safety_settings = {\n",
        "    'HARASSMENT': 'BLOCK_NONE',\n",
        "    'HATE': 'BLOCK_NONE',\n",
        "    'SEXUAL': 'BLOCK_NONE',\n",
        "    'DANGEROUS': 'BLOCK_NONE',\n",
        "}\n",
        "\n",
        "evaluator_model = genai.GenerativeModel('gemini-pro', generation_config=evaluator_generation_config, safety_settings=evaluator_safety_settings)\n",
        "\n",
        "def chat_evaluation(chat):\n",
        "  evaluation = evaluator_model.generate_content(f'{evaluator_info} {chat}')\n",
        "  print(evaluation.text)"
      ],
      "metadata": {
        "id": "axvIFujlrddI"
      },
      "execution_count": 52,
      "outputs": []
    },
    {
      "cell_type": "markdown",
      "source": [
        "# Chat: AI vs AI"
      ],
      "metadata": {
        "id": "5H6hElMbvLZB"
      }
    },
    {
      "cell_type": "markdown",
      "source": [
        "- [ ] Chat config"
      ],
      "metadata": {
        "id": "ZG70H1-608Sb"
      }
    },
    {
      "cell_type": "code",
      "source": [
        "employee_chat = employee_model.start_chat(history=[])\n",
        "customer_chat = customer_model.start_chat(history=[])"
      ],
      "metadata": {
        "id": "1dF6lUrkvXd9"
      },
      "execution_count": 19,
      "outputs": []
    },
    {
      "cell_type": "markdown",
      "source": [
        "- [ ] Chat simulation"
      ],
      "metadata": {
        "id": "e2arMaQs1AKE"
      }
    },
    {
      "cell_type": "code",
      "source": [
        "employee_chat.history = []\n",
        "customer_chat.history = []\n",
        "\n",
        "prompt = ''\n",
        "chat = ''\n",
        "\n",
        "employee = ''\n",
        "customer = customer_chat.send_message(f'{customer_info}\\nInicie a conversa com apenas sua mensagem, sem precisar especificar \"Você: olá\"')\n",
        "\n",
        "while prompt != 'stop':\n",
        "  print('customer: ', customer.text, '\\n')\n",
        "  chat += customer.text\n",
        "  employee = employee_chat.send_message(f'{employee_info} {customer.text}')\n",
        "  print('employee: ', employee.text, '\\n')\n",
        "  chat += employee.text\n",
        "  customer = customer_chat.send_message(f'{customer_info} {employee.text}')\n",
        "\n",
        "  prompt = input('digite \"stop\" para parar ou enter para continuar: ')"
      ],
      "metadata": {
        "id": "bEnDjiiJvhBE"
      },
      "execution_count": null,
      "outputs": []
    },
    {
      "cell_type": "markdown",
      "source": [
        "- [ ] Chat evaluation"
      ],
      "metadata": {
        "id": "glViHLTztj9F"
      }
    },
    {
      "cell_type": "code",
      "source": [
        "#Analise a ultima conversa gravada para ela receber um status.\n",
        "chat_evaluation(chat)"
      ],
      "metadata": {
        "id": "xdIOrB87tWVl"
      },
      "execution_count": null,
      "outputs": []
    }
  ]
}