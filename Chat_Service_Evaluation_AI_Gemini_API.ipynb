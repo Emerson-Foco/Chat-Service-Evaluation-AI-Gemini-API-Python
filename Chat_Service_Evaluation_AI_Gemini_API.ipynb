{
  "nbformat": 4,
  "nbformat_minor": 0,
  "metadata": {
    "colab": {
      "provenance": [],
      "collapsed_sections": [
        "E6P9TE2GhttM",
        "-SAmUIVpjnfL",
        "qq1tIJACp7Kd",
        "5H6hElMbvLZB"
      ],
      "authorship_tag": "ABX9TyOacf8pPfMz5q8idTdC4NOj",
      "include_colab_link": true
    },
    "kernelspec": {
      "name": "python3",
      "display_name": "Python 3"
    },
    "language_info": {
      "name": "python"
    }
  },
  "cells": [
    {
      "cell_type": "markdown",
      "metadata": {
        "id": "view-in-github",
        "colab_type": "text"
      },
      "source": [
        "<a href=\"https://colab.research.google.com/github/Emerson-Foco/Chat_Service_Evaluation_AI_Gemini_API/blob/main/Chat_Service_Evaluation_AI_Gemini_API.ipynb\" target=\"_parent\"><img src=\"https://colab.research.google.com/assets/colab-badge.svg\" alt=\"Open In Colab\"/></a>"
      ]
    },
    {
      "cell_type": "markdown",
      "source": [
        "# First Steps"
      ],
      "metadata": {
        "id": "E6P9TE2GhttM"
      }
    },
    {
      "cell_type": "markdown",
      "source": [
        "- [ ] Install and import Google SDK"
      ],
      "metadata": {
        "id": "YbbICG45jP_R"
      }
    },
    {
      "cell_type": "code",
      "execution_count": 10,
      "metadata": {
        "id": "KsiiE8fkhbmm"
      },
      "outputs": [],
      "source": [
        "!pip install -q -U google-generativeai"
      ]
    },
    {
      "cell_type": "markdown",
      "source": [
        "- [ ] Import Goodle SDK"
      ],
      "metadata": {
        "id": "1Eh38xNWjWqx"
      }
    },
    {
      "cell_type": "code",
      "source": [
        "import pathlib\n",
        "import textwrap\n",
        "\n",
        "import google.generativeai as genai\n",
        "\n",
        "from IPython.display import display\n",
        "from IPython.display import Markdown\n",
        "\n",
        "\n",
        "def to_markdown(text):\n",
        "  text = text.replace('•', '  *')\n",
        "  return Markdown(textwrap.indent(text, '> ', predicate=lambda _: True))"
      ],
      "metadata": {
        "id": "FYj1jexRjf2r"
      },
      "execution_count": 11,
      "outputs": []
    },
    {
      "cell_type": "markdown",
      "source": [
        "- [ ] Setting your API key by *userdata.get*"
      ],
      "metadata": {
        "id": "BbBtNgLQig1h"
      }
    },
    {
      "cell_type": "code",
      "source": [
        "from google.colab import userdata\n",
        "api_key = userdata.get('SECRET_KEY')\n",
        "\n",
        "genai.configure(api_key=api_key)"
      ],
      "metadata": {
        "id": "-775pV6diwMa"
      },
      "execution_count": 12,
      "outputs": []
    },
    {
      "cell_type": "markdown",
      "source": [
        "# Setting your employee\n",
        "\n",
        "> Adicionar aspas\n",
        "\n"
      ],
      "metadata": {
        "id": "-SAmUIVpjnfL"
      }
    },
    {
      "cell_type": "markdown",
      "source": [
        "- [ ] employee info"
      ],
      "metadata": {
        "id": "cy4S6J14nS_V"
      }
    },
    {
      "cell_type": "code",
      "source": [
        "employee_name = 'Raquel'\n",
        "employee_position = 'atendente'\n",
        "employee_company = 'Google'\n",
        "employee_products = 'AI Gemini'\n",
        "\n",
        "employee_info = {f'Você se chama {employee_name} e é {employee_position} de chat e trabalha para empresa {employee_company} '\n",
        "                  f'com os produtos {employee_products}, realize um atendimento natural, humanizado e '\n",
        "                  'sem assustar o cliente. Você não pode mentir e nem inventar.'\n",
        "                  ' O que você não souber, diga que não possui a informação'}\n",
        "\n",
        "print(employee_info)"
      ],
      "metadata": {
        "id": "mw_idnM-j1Ur"
      },
      "execution_count": null,
      "outputs": []
    },
    {
      "cell_type": "markdown",
      "source": [
        "- [ ] employee model settings"
      ],
      "metadata": {
        "id": "uGG0lYu3nZ-R"
      }
    },
    {
      "cell_type": "code",
      "source": [
        "employee_generation_config = {\n",
        "    'candidate_count': 1,\n",
        "    'temperature': 0.9,\n",
        "}\n",
        "\n",
        "employee_safety_settings = {\n",
        "    'HARASSMENT': 'BLOCK_NONE',\n",
        "    'HATE': 'BLOCK_NONE',\n",
        "    'SEXUAL': 'BLOCK_NONE',\n",
        "    'DANGEROUS': 'BLOCK_NONE',\n",
        "}\n",
        "\n",
        "employee_model = genai.GenerativeModel('gemini-pro', generation_config=employee_generation_config, safety_settings=employee_safety_settings)"
      ],
      "metadata": {
        "id": "L5ky5Ph2nieJ"
      },
      "execution_count": 31,
      "outputs": []
    },
    {
      "cell_type": "markdown",
      "source": [
        "#Setting customer"
      ],
      "metadata": {
        "id": "qq1tIJACp7Kd"
      }
    },
    {
      "cell_type": "markdown",
      "source": [
        "- [ ] customer info"
      ],
      "metadata": {
        "id": "hdo-z5FoqUEI"
      }
    },
    {
      "cell_type": "code",
      "source": [
        "customer_name = 'Paulo'\n",
        "customer_position = 'CEO'\n",
        "customer_company = 'Alura'\n",
        "customer_interest = 'IA para ajudar os alunos da sua plataforma de cursos online'\n",
        "\n",
        "customer_info = {f'Você é {customer_name}, {customer_position} da empresa {customer_company} e'\n",
        "                  f' Você tem interesse em {customer_interest}.'}\n",
        "\n",
        "print(customer_info)"
      ],
      "metadata": {
        "id": "ZLiyJjawqcCn"
      },
      "execution_count": null,
      "outputs": []
    },
    {
      "cell_type": "markdown",
      "source": [
        "- [ ] customer model settings"
      ],
      "metadata": {
        "id": "0sr1toyKtJsj"
      }
    },
    {
      "cell_type": "code",
      "source": [
        "customer_generation_config = {\n",
        "    'candidate_count': 1,\n",
        "    'temperature': 0.9,\n",
        "}\n",
        "\n",
        "customer_safety_settings = {\n",
        "    'HARASSMENT': 'BLOCK_NONE',\n",
        "    'HATE': 'BLOCK_NONE',\n",
        "    'SEXUAL': 'BLOCK_NONE',\n",
        "    'DANGEROUS': 'BLOCK_NONE',\n",
        "}\n",
        "\n",
        "customer_model = genai.GenerativeModel('gemini-pro', generation_config=customer_generation_config, safety_settings=customer_safety_settings)"
      ],
      "metadata": {
        "id": "S_-lawAvtN80"
      },
      "execution_count": 20,
      "outputs": []
    },
    {
      "cell_type": "markdown",
      "source": [
        "# Chat: AI vs AI"
      ],
      "metadata": {
        "id": "5H6hElMbvLZB"
      }
    },
    {
      "cell_type": "code",
      "source": [
        "employee_chat = employee_model.start_chat(history=[])\n",
        "customer_chat = customer_model.start_chat(history=[])"
      ],
      "metadata": {
        "id": "1dF6lUrkvXd9"
      },
      "execution_count": 32,
      "outputs": []
    },
    {
      "cell_type": "code",
      "source": [
        "employee_chat.history = []\n",
        "customer_chat.history = []\n",
        "\n",
        "prompt = ''\n",
        "\n",
        "employee = ''\n",
        "customer = customer_chat.send_message(f'{customer_info}\\nInicie a conversa com o/a atendente do chat')\n",
        "\n",
        "while prompt != 'stop':\n",
        "  print('customer: ', customer.text, '\\n')\n",
        "  employee = employee_chat.send_message(f'{employee_info} {customer.text}')\n",
        "  print('employee: ', employee.text, '\\n')\n",
        "  customer = customer_chat.send_message(f'{customer_info} {employee.text}')\n",
        "\n",
        "  prompt = input('digite \"stop\" para parar ou enter para continuar: ')"
      ],
      "metadata": {
        "id": "bEnDjiiJvhBE"
      },
      "execution_count": null,
      "outputs": []
    }
  ]
}